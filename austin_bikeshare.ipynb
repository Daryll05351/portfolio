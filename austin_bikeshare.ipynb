{
 "cells": [
  {
   "cell_type": "markdown",
   "id": "3f6112ec",
   "metadata": {},
   "source": [
    "# Austin Bikeshare Project"
   ]
  },
  {
   "cell_type": "markdown",
   "id": "b6096b2e",
   "metadata": {},
   "source": [
    "## Goals\n",
    "\n",
    "- Identify the optimal time window for performing station and bicycle maintenance that minimizes disruption to bikeshare operations, based on usage patterns across different hours of the day.\n",
    "\n",
    "- Uncover and present additional meaningful insights from the dataset that could support operational decisions or improve the overall efficiency of the bikeshare system.\n",
    "\n"
   ]
  },
  {
   "cell_type": "code",
   "execution_count": 2,
   "id": "ff819072",
   "metadata": {},
   "outputs": [],
   "source": [
    "import pandas as pd\n",
    "import numpy as np\n",
    "\n",
    "import matplotlib.pyplot as plt\n",
    "import seaborn as sns\n",
    "import plotly.express as px\n",
    "\n",
    "pd.set_option('display.max_columns', None)\n",
    "from sklearn.model_selection import train_test_split, GridSearchCV\n",
    "import sklearn.metrics as metrics\n",
    "from sklearn.ensemble import RandomForestClassifier\n",
    "\n",
    "import pickle\n"
   ]
  },
  {
   "cell_type": "code",
   "execution_count": 3,
   "id": "794c2334",
   "metadata": {},
   "outputs": [
    {
     "data": {
      "text/html": [
       "<div>\n",
       "<style scoped>\n",
       "    .dataframe tbody tr th:only-of-type {\n",
       "        vertical-align: middle;\n",
       "    }\n",
       "\n",
       "    .dataframe tbody tr th {\n",
       "        vertical-align: top;\n",
       "    }\n",
       "\n",
       "    .dataframe thead th {\n",
       "        text-align: right;\n",
       "    }\n",
       "</style>\n",
       "<table border=\"1\" class=\"dataframe\">\n",
       "  <thead>\n",
       "    <tr style=\"text-align: right;\">\n",
       "      <th></th>\n",
       "      <th>station_id</th>\n",
       "      <th>name</th>\n",
       "      <th>status</th>\n",
       "      <th>location</th>\n",
       "      <th>address</th>\n",
       "      <th>alternate_name</th>\n",
       "      <th>city_asset_number</th>\n",
       "      <th>property_type</th>\n",
       "      <th>number_of_docks</th>\n",
       "      <th>power_type</th>\n",
       "      <th>footprint_length</th>\n",
       "      <th>footprint_width</th>\n",
       "      <th>notes</th>\n",
       "      <th>council_district</th>\n",
       "      <th>image</th>\n",
       "      <th>modified_date</th>\n",
       "    </tr>\n",
       "  </thead>\n",
       "  <tbody>\n",
       "    <tr>\n",
       "      <th>0</th>\n",
       "      <td>1007</td>\n",
       "      <td>Lavaca &amp; 6th</td>\n",
       "      <td>closed</td>\n",
       "      <td>(30.26889, -97.74525)</td>\n",
       "      <td>601 Lavaca St.</td>\n",
       "      <td>NaN</td>\n",
       "      <td>NaN</td>\n",
       "      <td>NaN</td>\n",
       "      <td>NaN</td>\n",
       "      <td>NaN</td>\n",
       "      <td>NaN</td>\n",
       "      <td>NaN</td>\n",
       "      <td>NaN</td>\n",
       "      <td>9</td>\n",
       "      <td>NaN</td>\n",
       "      <td>2021-01-04 00:00:00.000000 UTC</td>\n",
       "    </tr>\n",
       "    <tr>\n",
       "      <th>1</th>\n",
       "      <td>1008</td>\n",
       "      <td>Nueces @ 3rd</td>\n",
       "      <td>closed</td>\n",
       "      <td>(30.26694, -97.74939)</td>\n",
       "      <td>311 Nueces</td>\n",
       "      <td>NaN</td>\n",
       "      <td>NaN</td>\n",
       "      <td>NaN</td>\n",
       "      <td>NaN</td>\n",
       "      <td>NaN</td>\n",
       "      <td>NaN</td>\n",
       "      <td>NaN</td>\n",
       "      <td>NaN</td>\n",
       "      <td>9</td>\n",
       "      <td>NaN</td>\n",
       "      <td>2021-01-04 00:00:00.000000 UTC</td>\n",
       "    </tr>\n",
       "    <tr>\n",
       "      <th>2</th>\n",
       "      <td>2500</td>\n",
       "      <td>Republic Square</td>\n",
       "      <td>closed</td>\n",
       "      <td>(30.26751, -97.74802)</td>\n",
       "      <td>425 W 4th Street</td>\n",
       "      <td>NaN</td>\n",
       "      <td>NaN</td>\n",
       "      <td>NaN</td>\n",
       "      <td>NaN</td>\n",
       "      <td>NaN</td>\n",
       "      <td>NaN</td>\n",
       "      <td>NaN</td>\n",
       "      <td>NaN</td>\n",
       "      <td>9</td>\n",
       "      <td>NaN</td>\n",
       "      <td>2021-01-04 00:00:00.000000 UTC</td>\n",
       "    </tr>\n",
       "    <tr>\n",
       "      <th>3</th>\n",
       "      <td>2502</td>\n",
       "      <td>Barton Springs &amp; Riverside</td>\n",
       "      <td>closed</td>\n",
       "      <td>(30.2587, -97.74872)</td>\n",
       "      <td>400 Barton Springs Rd.</td>\n",
       "      <td>NaN</td>\n",
       "      <td>NaN</td>\n",
       "      <td>NaN</td>\n",
       "      <td>NaN</td>\n",
       "      <td>NaN</td>\n",
       "      <td>NaN</td>\n",
       "      <td>NaN</td>\n",
       "      <td>moved to Pedernales/2nd. Original city ID: 16729</td>\n",
       "      <td>9</td>\n",
       "      <td>NaN</td>\n",
       "      <td>2021-01-04 00:00:00.000000 UTC</td>\n",
       "    </tr>\n",
       "    <tr>\n",
       "      <th>4</th>\n",
       "      <td>2536</td>\n",
       "      <td>Waller &amp; 6th St.</td>\n",
       "      <td>closed</td>\n",
       "      <td>(30.26461, -97.73049)</td>\n",
       "      <td>602 Waller St.</td>\n",
       "      <td>NaN</td>\n",
       "      <td>NaN</td>\n",
       "      <td>NaN</td>\n",
       "      <td>NaN</td>\n",
       "      <td>NaN</td>\n",
       "      <td>NaN</td>\n",
       "      <td>NaN</td>\n",
       "      <td>NaN</td>\n",
       "      <td>3</td>\n",
       "      <td>NaN</td>\n",
       "      <td>2021-01-04 00:00:00.000000 UTC</td>\n",
       "    </tr>\n",
       "  </tbody>\n",
       "</table>\n",
       "</div>"
      ],
      "text/plain": [
       "   station_id                        name  status               location  \\\n",
       "0        1007                Lavaca & 6th  closed  (30.26889, -97.74525)   \n",
       "1        1008                Nueces @ 3rd  closed  (30.26694, -97.74939)   \n",
       "2        2500             Republic Square  closed  (30.26751, -97.74802)   \n",
       "3        2502  Barton Springs & Riverside  closed   (30.2587, -97.74872)   \n",
       "4        2536            Waller & 6th St.  closed  (30.26461, -97.73049)   \n",
       "\n",
       "                  address alternate_name  city_asset_number property_type  \\\n",
       "0          601 Lavaca St.            NaN                NaN           NaN   \n",
       "1              311 Nueces            NaN                NaN           NaN   \n",
       "2        425 W 4th Street            NaN                NaN           NaN   \n",
       "3  400 Barton Springs Rd.            NaN                NaN           NaN   \n",
       "4          602 Waller St.            NaN                NaN           NaN   \n",
       "\n",
       "   number_of_docks power_type  footprint_length  footprint_width  \\\n",
       "0              NaN        NaN               NaN              NaN   \n",
       "1              NaN        NaN               NaN              NaN   \n",
       "2              NaN        NaN               NaN              NaN   \n",
       "3              NaN        NaN               NaN              NaN   \n",
       "4              NaN        NaN               NaN              NaN   \n",
       "\n",
       "                                              notes  council_district  image  \\\n",
       "0                                               NaN                 9    NaN   \n",
       "1                                               NaN                 9    NaN   \n",
       "2                                               NaN                 9    NaN   \n",
       "3  moved to Pedernales/2nd. Original city ID: 16729                 9    NaN   \n",
       "4                                               NaN                 3    NaN   \n",
       "\n",
       "                    modified_date  \n",
       "0  2021-01-04 00:00:00.000000 UTC  \n",
       "1  2021-01-04 00:00:00.000000 UTC  \n",
       "2  2021-01-04 00:00:00.000000 UTC  \n",
       "3  2021-01-04 00:00:00.000000 UTC  \n",
       "4  2021-01-04 00:00:00.000000 UTC  "
      ]
     },
     "execution_count": 3,
     "metadata": {},
     "output_type": "execute_result"
    }
   ],
   "source": [
    "df = pd.read_csv('bikeshare_station.csv')\n",
    "df1 = pd.read_csv('bikeshare_trips.csv') \n",
    "\n",
    "df.head()"
   ]
  },
  {
   "cell_type": "code",
   "execution_count": 4,
   "id": "7d4ac0ca",
   "metadata": {},
   "outputs": [
    {
     "name": "stdout",
     "output_type": "stream",
     "text": [
      "<class 'pandas.core.frame.DataFrame'>\n",
      "RangeIndex: 101 entries, 0 to 100\n",
      "Data columns (total 16 columns):\n",
      " #   Column             Non-Null Count  Dtype  \n",
      "---  ------             --------------  -----  \n",
      " 0   station_id         101 non-null    int64  \n",
      " 1   name               101 non-null    object \n",
      " 2   status             101 non-null    object \n",
      " 3   location           101 non-null    object \n",
      " 4   address            100 non-null    object \n",
      " 5   alternate_name     2 non-null      object \n",
      " 6   city_asset_number  77 non-null     float64\n",
      " 7   property_type      82 non-null     object \n",
      " 8   number_of_docks    82 non-null     float64\n",
      " 9   power_type         82 non-null     object \n",
      " 10  footprint_length   79 non-null     float64\n",
      " 11  footprint_width    79 non-null     float64\n",
      " 12  notes              32 non-null     object \n",
      " 13  council_district   101 non-null    int64  \n",
      " 14  image              0 non-null      float64\n",
      " 15  modified_date      101 non-null    object \n",
      "dtypes: float64(5), int64(2), object(9)\n",
      "memory usage: 12.8+ KB\n",
      "None\n",
      "<class 'pandas.core.frame.DataFrame'>\n",
      "RangeIndex: 63657 entries, 0 to 63656\n",
      "Data columns (total 10 columns):\n",
      " #   Column              Non-Null Count  Dtype  \n",
      "---  ------              --------------  -----  \n",
      " 0   trip_id             63657 non-null  int64  \n",
      " 1   subscriber_type     63525 non-null  object \n",
      " 2   bike_id             63657 non-null  object \n",
      " 3   bike_type           63657 non-null  object \n",
      " 4   start_time          63657 non-null  object \n",
      " 5   start_station_id    63531 non-null  float64\n",
      " 6   start_station_name  63657 non-null  object \n",
      " 7   end_station_id      62804 non-null  object \n",
      " 8   end_station_name    63657 non-null  object \n",
      " 9   duration_minutes    63657 non-null  int64  \n",
      "dtypes: float64(1), int64(2), object(7)\n",
      "memory usage: 4.9+ MB\n",
      "None\n"
     ]
    }
   ],
   "source": [
    "print(df.info())\n",
    "print(df1.info())"
   ]
  },
  {
   "cell_type": "code",
   "execution_count": 5,
   "id": "130aa408",
   "metadata": {},
   "outputs": [
    {
     "data": {
      "text/html": [
       "<div>\n",
       "<style scoped>\n",
       "    .dataframe tbody tr th:only-of-type {\n",
       "        vertical-align: middle;\n",
       "    }\n",
       "\n",
       "    .dataframe tbody tr th {\n",
       "        vertical-align: top;\n",
       "    }\n",
       "\n",
       "    .dataframe thead th {\n",
       "        text-align: right;\n",
       "    }\n",
       "</style>\n",
       "<table border=\"1\" class=\"dataframe\">\n",
       "  <thead>\n",
       "    <tr style=\"text-align: right;\">\n",
       "      <th></th>\n",
       "      <th>station_id</th>\n",
       "      <th>name</th>\n",
       "      <th>status</th>\n",
       "      <th>location</th>\n",
       "      <th>address</th>\n",
       "      <th>alternate_name</th>\n",
       "      <th>city_asset_number</th>\n",
       "      <th>property_type</th>\n",
       "      <th>number_of_docks</th>\n",
       "      <th>power_type</th>\n",
       "      <th>footprint_length</th>\n",
       "      <th>footprint_width</th>\n",
       "      <th>notes</th>\n",
       "      <th>council_district</th>\n",
       "      <th>image</th>\n",
       "      <th>modified_date</th>\n",
       "      <th>latitude</th>\n",
       "      <th>longitude</th>\n",
       "    </tr>\n",
       "  </thead>\n",
       "  <tbody>\n",
       "    <tr>\n",
       "      <th>0</th>\n",
       "      <td>1007</td>\n",
       "      <td>Lavaca &amp; 6th</td>\n",
       "      <td>closed</td>\n",
       "      <td>(30.26889, -97.74525)</td>\n",
       "      <td>601 Lavaca St.</td>\n",
       "      <td>NaN</td>\n",
       "      <td>NaN</td>\n",
       "      <td>NaN</td>\n",
       "      <td>NaN</td>\n",
       "      <td>NaN</td>\n",
       "      <td>NaN</td>\n",
       "      <td>NaN</td>\n",
       "      <td>NaN</td>\n",
       "      <td>9</td>\n",
       "      <td>NaN</td>\n",
       "      <td>2021-01-04 00:00:00.000000 UTC</td>\n",
       "      <td>30.26889</td>\n",
       "      <td>-97.74525</td>\n",
       "    </tr>\n",
       "    <tr>\n",
       "      <th>1</th>\n",
       "      <td>1008</td>\n",
       "      <td>Nueces @ 3rd</td>\n",
       "      <td>closed</td>\n",
       "      <td>(30.26694, -97.74939)</td>\n",
       "      <td>311 Nueces</td>\n",
       "      <td>NaN</td>\n",
       "      <td>NaN</td>\n",
       "      <td>NaN</td>\n",
       "      <td>NaN</td>\n",
       "      <td>NaN</td>\n",
       "      <td>NaN</td>\n",
       "      <td>NaN</td>\n",
       "      <td>NaN</td>\n",
       "      <td>9</td>\n",
       "      <td>NaN</td>\n",
       "      <td>2021-01-04 00:00:00.000000 UTC</td>\n",
       "      <td>30.26694</td>\n",
       "      <td>-97.74939</td>\n",
       "    </tr>\n",
       "    <tr>\n",
       "      <th>2</th>\n",
       "      <td>2500</td>\n",
       "      <td>Republic Square</td>\n",
       "      <td>closed</td>\n",
       "      <td>(30.26751, -97.74802)</td>\n",
       "      <td>425 W 4th Street</td>\n",
       "      <td>NaN</td>\n",
       "      <td>NaN</td>\n",
       "      <td>NaN</td>\n",
       "      <td>NaN</td>\n",
       "      <td>NaN</td>\n",
       "      <td>NaN</td>\n",
       "      <td>NaN</td>\n",
       "      <td>NaN</td>\n",
       "      <td>9</td>\n",
       "      <td>NaN</td>\n",
       "      <td>2021-01-04 00:00:00.000000 UTC</td>\n",
       "      <td>30.26751</td>\n",
       "      <td>-97.74802</td>\n",
       "    </tr>\n",
       "    <tr>\n",
       "      <th>3</th>\n",
       "      <td>2502</td>\n",
       "      <td>Barton Springs &amp; Riverside</td>\n",
       "      <td>closed</td>\n",
       "      <td>(30.2587, -97.74872)</td>\n",
       "      <td>400 Barton Springs Rd.</td>\n",
       "      <td>NaN</td>\n",
       "      <td>NaN</td>\n",
       "      <td>NaN</td>\n",
       "      <td>NaN</td>\n",
       "      <td>NaN</td>\n",
       "      <td>NaN</td>\n",
       "      <td>NaN</td>\n",
       "      <td>moved to Pedernales/2nd. Original city ID: 16729</td>\n",
       "      <td>9</td>\n",
       "      <td>NaN</td>\n",
       "      <td>2021-01-04 00:00:00.000000 UTC</td>\n",
       "      <td>30.25870</td>\n",
       "      <td>-97.74872</td>\n",
       "    </tr>\n",
       "    <tr>\n",
       "      <th>4</th>\n",
       "      <td>2536</td>\n",
       "      <td>Waller &amp; 6th St.</td>\n",
       "      <td>closed</td>\n",
       "      <td>(30.26461, -97.73049)</td>\n",
       "      <td>602 Waller St.</td>\n",
       "      <td>NaN</td>\n",
       "      <td>NaN</td>\n",
       "      <td>NaN</td>\n",
       "      <td>NaN</td>\n",
       "      <td>NaN</td>\n",
       "      <td>NaN</td>\n",
       "      <td>NaN</td>\n",
       "      <td>NaN</td>\n",
       "      <td>3</td>\n",
       "      <td>NaN</td>\n",
       "      <td>2021-01-04 00:00:00.000000 UTC</td>\n",
       "      <td>30.26461</td>\n",
       "      <td>-97.73049</td>\n",
       "    </tr>\n",
       "  </tbody>\n",
       "</table>\n",
       "</div>"
      ],
      "text/plain": [
       "   station_id                        name  status               location  \\\n",
       "0        1007                Lavaca & 6th  closed  (30.26889, -97.74525)   \n",
       "1        1008                Nueces @ 3rd  closed  (30.26694, -97.74939)   \n",
       "2        2500             Republic Square  closed  (30.26751, -97.74802)   \n",
       "3        2502  Barton Springs & Riverside  closed   (30.2587, -97.74872)   \n",
       "4        2536            Waller & 6th St.  closed  (30.26461, -97.73049)   \n",
       "\n",
       "                  address alternate_name  city_asset_number property_type  \\\n",
       "0          601 Lavaca St.            NaN                NaN           NaN   \n",
       "1              311 Nueces            NaN                NaN           NaN   \n",
       "2        425 W 4th Street            NaN                NaN           NaN   \n",
       "3  400 Barton Springs Rd.            NaN                NaN           NaN   \n",
       "4          602 Waller St.            NaN                NaN           NaN   \n",
       "\n",
       "   number_of_docks power_type  footprint_length  footprint_width  \\\n",
       "0              NaN        NaN               NaN              NaN   \n",
       "1              NaN        NaN               NaN              NaN   \n",
       "2              NaN        NaN               NaN              NaN   \n",
       "3              NaN        NaN               NaN              NaN   \n",
       "4              NaN        NaN               NaN              NaN   \n",
       "\n",
       "                                              notes  council_district  image  \\\n",
       "0                                               NaN                 9    NaN   \n",
       "1                                               NaN                 9    NaN   \n",
       "2                                               NaN                 9    NaN   \n",
       "3  moved to Pedernales/2nd. Original city ID: 16729                 9    NaN   \n",
       "4                                               NaN                 3    NaN   \n",
       "\n",
       "                    modified_date  latitude  longitude  \n",
       "0  2021-01-04 00:00:00.000000 UTC  30.26889  -97.74525  \n",
       "1  2021-01-04 00:00:00.000000 UTC  30.26694  -97.74939  \n",
       "2  2021-01-04 00:00:00.000000 UTC  30.26751  -97.74802  \n",
       "3  2021-01-04 00:00:00.000000 UTC  30.25870  -97.74872  \n",
       "4  2021-01-04 00:00:00.000000 UTC  30.26461  -97.73049  "
      ]
     },
     "execution_count": 5,
     "metadata": {},
     "output_type": "execute_result"
    }
   ],
   "source": [
    "# Remove parentheses and split into new columns\n",
    "df[['latitude', 'longitude']] = df['location'].str.strip(\"()\").str.split(\", \", expand=True)\n",
    "\n",
    "# Convert to float\n",
    "df['latitude'] = df['latitude'].astype(float)\n",
    "df['longitude'] = df['longitude'].astype(float)\n",
    "\n",
    "df.head()"
   ]
  },
  {
   "cell_type": "code",
   "execution_count": 12,
   "id": "234deaf5",
   "metadata": {},
   "outputs": [
    {
     "data": {
      "application/vnd.plotly.v1+json": {
       "config": {
        "plotlyServerURL": "https://plot.ly"
       },
       "data": [
        {
         "customdata": [
          [
           null
          ],
          [
           null
          ],
          [
           null
          ],
          [
           null
          ],
          [
           null
          ],
          [
           null
          ],
          [
           null
          ],
          [
           null
          ],
          [
           null
          ],
          [
           null
          ],
          [
           null
          ],
          [
           null
          ],
          [
           null
          ],
          [
           null
          ],
          [
           null
          ],
          [
           null
          ],
          [
           null
          ],
          [
           null
          ],
          [
           null
          ],
          [
           "paid_parking"
          ],
          [
           "paid_parking"
          ],
          [
           "sidewalk"
          ],
          [
           "undetermined_parking"
          ]
         ],
         "hovertemplate": "<b>%{hovertext}</b><br><br>status=closed<br>latitude=%{lat}<br>longitude=%{lon}<br>property_type=%{customdata[0]}<extra></extra>",
         "hovertext": [
          "Lavaca & 6th",
          "Nueces @ 3rd",
          "Republic Square",
          "Barton Springs & Riverside",
          "Waller & 6th St.",
          "Bullock Museum @ Congress & MLK",
          "State Capitol @ 14th & Colorado",
          "ACC - Rio Grande & 12th",
          "ACC - West & 12th Street",
          "5th & San Marcos",
          "Rainey @ River St",
          "Toomey Rd @ South Lamar",
          "East 7th & Pleasant Valley",
          "6th & Navasota St.",
          "Pease Park",
          "8th & Guadalupe",
          "Zilker Park West",
          "OFFICE/Main/Shop/Repair",
          "State Parking Garage @ Brazos & 18th",
          "17th & Guadalupe",
          "13th & San Antonio",
          "Republic Square @ 5th & Guadalupe",
          "23rd & Rio Grande"
         ],
         "lat": {
          "bdata": "sDic+dVEPkCH/gkuVkQ+QFxaDYl7RD5Ap3nHKTpCPkDPMSB7vUM+QB0gmKPHRz5ALQlQU8tGPkDKVMGopEY+QNjYJaq3Rj5AT+lg/Z9DPkDDtkWZDUI+QDOK5ZZWQz5AtMh2vp9CPkAktOVcikM+QA5KmGn7Rz5A9kArMGRFPkDO/GoOEEQ+QC8X8Z2YRT5Ac0urIXFHPkAPYmcKnUc+QJ92+GuyRj5A6rKY2HxEPkB9y5wui0k+QA==",
          "dtype": "f8"
         },
         "legendgroup": "closed",
         "lon": {
          "bdata": "BFYOLbJvWMDEfHkB9m9YwEAwR4/fb1jAHXdKB+tvWMCGAyFZwG5YwEzg1t08b1jAU5YhjnVvWMDg1t081W9YwERRoE/kb1jAMGR1q+duWMBPHhZqTW9YwDihEAGHcFjAYeC593BtWMCto6oJom5YwDWYhuEjcFjAqDrkZrhvWMDMtP0rK3FYwFqBIatbb1jAxY8xdy1vWMAz/n3GhW9YwHLcKR2sb1jAdnEbDeBvWMDvycNCrW9YwA==",
          "dtype": "f8"
         },
         "marker": {
          "color": "#636efa"
         },
         "mode": "markers",
         "name": "closed",
         "showlegend": true,
         "subplot": "map",
         "type": "scattermap"
        },
        {
         "customdata": [
          [
           "nonmetered_parking"
          ],
          [
           "nonmetered_parking"
          ],
          [
           "nonmetered_parking"
          ],
          [
           "nonmetered_parking"
          ],
          [
           "nonmetered_parking"
          ],
          [
           "nonmetered_parking"
          ],
          [
           "nonmetered_parking"
          ],
          [
           "nonmetered_parking"
          ],
          [
           "paid_parking"
          ],
          [
           "paid_parking"
          ],
          [
           "paid_parking"
          ],
          [
           "paid_parking"
          ],
          [
           "paid_parking"
          ],
          [
           "paid_parking"
          ],
          [
           "paid_parking"
          ],
          [
           "paid_parking"
          ],
          [
           "paid_parking"
          ],
          [
           "paid_parking"
          ],
          [
           "paid_parking"
          ],
          [
           "paid_parking"
          ],
          [
           "paid_parking"
          ],
          [
           "paid_parking"
          ],
          [
           "paid_parking"
          ],
          [
           "paid_parking"
          ],
          [
           "paid_parking"
          ],
          [
           "parkland"
          ],
          [
           "parkland"
          ],
          [
           "parkland"
          ],
          [
           "parkland"
          ],
          [
           "parkland"
          ],
          [
           "parkland"
          ],
          [
           "sidewalk"
          ],
          [
           "sidewalk"
          ],
          [
           "sidewalk"
          ],
          [
           "sidewalk"
          ],
          [
           "sidewalk"
          ],
          [
           "sidewalk"
          ],
          [
           "sidewalk"
          ],
          [
           "sidewalk"
          ],
          [
           "sidewalk"
          ],
          [
           "sidewalk"
          ],
          [
           "sidewalk"
          ],
          [
           "sidewalk"
          ],
          [
           "sidewalk"
          ],
          [
           "sidewalk"
          ],
          [
           "sidewalk"
          ],
          [
           "sidewalk"
          ],
          [
           "sidewalk"
          ],
          [
           "sidewalk"
          ],
          [
           "sidewalk"
          ],
          [
           "sidewalk"
          ],
          [
           "sidewalk"
          ],
          [
           "sidewalk"
          ],
          [
           "sidewalk"
          ],
          [
           "sidewalk"
          ],
          [
           "sidewalk"
          ],
          [
           "sidewalk"
          ],
          [
           "sidewalk"
          ],
          [
           "sidewalk"
          ],
          [
           "undetermined_parking"
          ],
          [
           "undetermined_parking"
          ],
          [
           "undetermined_parking"
          ],
          [
           "undetermined_parking"
          ],
          [
           "undetermined_parking"
          ],
          [
           "undetermined_parking"
          ],
          [
           "undetermined_parking"
          ],
          [
           "undetermined_parking"
          ],
          [
           "undetermined_parking"
          ],
          [
           "undetermined_parking"
          ],
          [
           "undetermined_parking"
          ],
          [
           "undetermined_parking"
          ],
          [
           "undetermined_parking"
          ],
          [
           "undetermined_parking"
          ],
          [
           "undetermined_parking"
          ],
          [
           "undetermined_parking"
          ],
          [
           "undetermined_parking"
          ],
          [
           "undetermined_parking"
          ],
          [
           "undetermined_parking"
          ]
         ],
         "hovertemplate": "<b>%{hovertext}</b><br><br>status=active<br>latitude=%{lat}<br>longitude=%{lon}<br>property_type=%{customdata[0]}<extra></extra>",
         "hovertext": [
          "East 2nd & Pedernales",
          "Rosewood & Angelina",
          "Rosewood & Chicon",
          "11th & Salina",
          "Hollow Creek & Barton Hills",
          "Nash Hernandez @ RBJ South",
          "Lakeshore @ Austin Hostel",
          "Lakeshore & Pleasant Valley",
          "Nueces & 3rd",
          "Rainey/Driskill",
          "16th/San Antonio",
          "Guadalupe & 21st",
          "3rd & West",
          "San Jacinto & 8th Street",
          "Brazos & 6th",
          "Henderson & 9th",
          "Rio Grande & 28th",
          "5th & Campbell",
          "10th & Red River",
          "6th & Chalmers",
          "23rd & San Gabriel",
          "2nd & Congress",
          "4th & Congress",
          "5th & Bowie",
          "UT West Mall @ Guadalupe",
          "Boardwalk West",
          "Congress & Cesar Chavez",
          "Barton Springs Pool",
          "Riverside @ S. Lamar",
          "Zilker Park",
          "Rainey St @ Cummings",
          "22nd 1/2 & Rio Grande",
          "South Congress & James",
          "8th & Lavaca",
          "South Congress & Academy",
          "East 5th/Shady @ Eastside Bus Plaza",
          "Trinity & 6th Street",
          "11th & San Jacinto",
          "6th & Congress",
          "Convention Center / 3rd & Trinity",
          "Plaza Saltillo",
          "Lavaca & 6th",
          "13th & Trinity",
          "Long Center @ South 1st & Riverside",
          "State Capitol Visitors Garage @ San Jacinto & 12th",
          "Red River & 8th Street",
          "South Congress & Barton Springs at the Austin American-Statesman",
          "Lake Austin Blvd @ Deep Eddy",
          "Red River/Cesar Chavez @ The Fairmont",
          "8th & Congress",
          "Palmer Auditorium",
          "Barton Springs @ Kinney Ave",
          "4th/Sabine",
          "4th/Guadalupe @ Republic Square",
          "Capitol Station / Congress & 11th",
          "City Hall / Lavaca & 2nd",
          "Pfluger Bridge @ W 2nd Street",
          "21st & Speedway @PCL",
          "23rd & San Jacinto @ DKR Stadium",
          "East 4th & Chicon",
          "East 6th & Pedernales St.",
          "East 11th St. at Victory Grill",
          "East 11th St. & San Marcos",
          "Medina & East 6th",
          "South Congress/Mary",
          "South Congress & Elizabeth",
          "West & 6th St.",
          "East 6th at Robert Martinez",
          "Capital Metro HQ - East 5th at Broadway",
          "Sterzing at Barton Springs",
          "Lake Austin & Enfield",
          "22nd & Pearl",
          "Nueces & 26th",
          "South Congress @ Bouldin Creek",
          "MoPac Pedestrian Bridge @ Veterans Drive",
          "Dean Keeton & Speedway",
          "Dean Keeton & Whitis",
          "21st & University"
         ],
         "lat": {
          "bdata": "jL6CNGNBPkBpjNZR1UQ+QOkOYmcKRT5A+U7MejFEPkBegH106kI+QI2XbhKDQD5AWK1M+KU+PkDnqQ65GT4+QFwDWyVYRD5AxVbQtMRCPkAsvMtFfEc+QP+ye/KwSD5Aat5xio5EPkAUs14M5UQ+QDFfXoB9RD5Ay/Pg7qxFPkCJ78SsF0s+QFj/5zBfRj5AMBLaci5FPkB6/N6mP0M+QNPe4AuTST5AFoczv5pDPkDcnbXbLkQ+QGkAb4EERT5ARYE+kSdJPkDwiuB/K0E+QPphhPBoQz5ATyMtlbdDPkCkGYums0M+QKMBvAUSRD5Apdk8DoNBPkB+HThnREk+QJxQiIBDQD5A6J/gYkVFPkDGFoIclEA+QOOqsu+KQD5A6pWyDHFEPkAhzVg0nUU+QBQi4BCqRD5AFqQZi6ZDPkAJ/reSHUM+QM5RR8fVRD5AZ9XnaitGPkBfQZqxaEI+QNkIxOv6RT5A+KqVCb9EPkAKndfYJUI+QKz/c5gvRz5AM/lmmxtDPkD3deCcEUU+QLRxxFp8Qj5AUI2XbhJDPkAmcyzvqkM+QExuFFlrRD5AveMUHclFPkD5SbVPx0M+QOp4zEBlRD5AnMQgsHJIPkDTvOMUHUk+QCY2H9eGQj5AmEwVjEpCPkCi7gOQ2kQ+QKJinL8JRT5AJCh+jLlDPkCjy5vDtT4+QLml1ZC4Pz5A6IL6ljlFPkCmft5UpEI+QP32deCcQT5AiC6ob5lDPkD6RJ4kXUs+QH6MuWsJST5A7ZklAWpKPkB+HThnREE+QPWEJR5QRj5A/DVZox5KPkB8YTJVMEo+QJsb0xOWSD5A",
          "dtype": "f8"
         },
         "legendgroup": "active",
         "lon": {
          "bdata": "ayv2l91tWMCcilQYW25YwNwpHaz/bVjAZ9XnaituWMAhWcAEbnFYwBDpt68Db1jAA8+9h0tuWMCnrnyW521YwBJOC170b1jAq+gPzTxvWMBS7dPxmG9YwE+Srpl8b1jAIAw89x5wWMCW58HdWW9YwEErMGR1b1jAFeP8TShwWMArE36pn29YwPs/h/nycFjAQkP/BBdvWMAYeO49XG5YwLn8h/Tbb1jANjy9UpZvWMDP2m0Xmm9YwA7bFmU2cFjAIXam0HlvWMB6qkNuhm9YwNY5BmSvb1jANqs+V1txWMAtIR/0bHBYwIUIOIQqcVjATu0MU1tvWMBkkpGzsG9YwN0MN+Dzb1jALzTXaaRvWMDd71AU6G9YwGYUyy2tbFjA6LzGLlFvWMBsskY9RG9YwFr1udqKb1jAKGGm7V9vWMBGCI82jm5YwMNmgAuyb1jAXhH8byVvWMD83qY/+29YwAU0ETY8b1jA+rMfKSJvWMCrWz0nvW9YwMU9lj50cVjAiGNd3EZvWMB6jV2iem9YwAe2SrA4cFjAopdRLLdwWMBIUWfuIW9YwMVZETXRb1jAYeC593BvWMCkU1c+y29YwJxtbkxPcFjAMzMzMzNvWMBt5/up8W5YwJVIopdRbljAObTIdr5tWMA429yYnm5YwEJ4tHHEbljAlIeFWtNuWMCimSfXFHBYwFLy6hwDcFjAMj1hiQdwWMCrCaLuA25YwLr3cMlxbVjALUMc6+JwWMBcj8L1KHJYwBb7y+7Jb1jA1uJTAIxvWMD9h/Tb129YwNMwfERMcVjAYTJVMCpvWMBo6J/gYm9YwEwao3VUb1jA",
          "dtype": "f8"
         },
         "marker": {
          "color": "#EF553B"
         },
         "mode": "markers",
         "name": "active",
         "showlegend": true,
         "subplot": "map",
         "type": "scattermap"
        }
       ],
       "layout": {
        "height": 500,
        "legend": {
         "title": {
          "text": "status"
         },
         "tracegroupgap": 0
        },
        "map": {
         "center": {
          "lat": 30.268431366336632,
          "lon": -97.74231404950498
         },
         "domain": {
          "x": [
           0,
           1
          ],
          "y": [
           0,
           1
          ]
         },
         "style": "carto-positron",
         "zoom": 3
        },
        "mapbox": {
         "center": {
          "lat": 30.268431366336632,
          "lon": -97.74231404950498
         },
         "style": "carto-positron",
         "zoom": 3
        },
        "margin": {
         "t": 60
        },
        "template": {
         "data": {
          "bar": [
           {
            "error_x": {
             "color": "#2a3f5f"
            },
            "error_y": {
             "color": "#2a3f5f"
            },
            "marker": {
             "line": {
              "color": "#E5ECF6",
              "width": 0.5
             },
             "pattern": {
              "fillmode": "overlay",
              "size": 10,
              "solidity": 0.2
             }
            },
            "type": "bar"
           }
          ],
          "barpolar": [
           {
            "marker": {
             "line": {
              "color": "#E5ECF6",
              "width": 0.5
             },
             "pattern": {
              "fillmode": "overlay",
              "size": 10,
              "solidity": 0.2
             }
            },
            "type": "barpolar"
           }
          ],
          "carpet": [
           {
            "aaxis": {
             "endlinecolor": "#2a3f5f",
             "gridcolor": "white",
             "linecolor": "white",
             "minorgridcolor": "white",
             "startlinecolor": "#2a3f5f"
            },
            "baxis": {
             "endlinecolor": "#2a3f5f",
             "gridcolor": "white",
             "linecolor": "white",
             "minorgridcolor": "white",
             "startlinecolor": "#2a3f5f"
            },
            "type": "carpet"
           }
          ],
          "choropleth": [
           {
            "colorbar": {
             "outlinewidth": 0,
             "ticks": ""
            },
            "type": "choropleth"
           }
          ],
          "contour": [
           {
            "colorbar": {
             "outlinewidth": 0,
             "ticks": ""
            },
            "colorscale": [
             [
              0,
              "#0d0887"
             ],
             [
              0.1111111111111111,
              "#46039f"
             ],
             [
              0.2222222222222222,
              "#7201a8"
             ],
             [
              0.3333333333333333,
              "#9c179e"
             ],
             [
              0.4444444444444444,
              "#bd3786"
             ],
             [
              0.5555555555555556,
              "#d8576b"
             ],
             [
              0.6666666666666666,
              "#ed7953"
             ],
             [
              0.7777777777777778,
              "#fb9f3a"
             ],
             [
              0.8888888888888888,
              "#fdca26"
             ],
             [
              1,
              "#f0f921"
             ]
            ],
            "type": "contour"
           }
          ],
          "contourcarpet": [
           {
            "colorbar": {
             "outlinewidth": 0,
             "ticks": ""
            },
            "type": "contourcarpet"
           }
          ],
          "heatmap": [
           {
            "colorbar": {
             "outlinewidth": 0,
             "ticks": ""
            },
            "colorscale": [
             [
              0,
              "#0d0887"
             ],
             [
              0.1111111111111111,
              "#46039f"
             ],
             [
              0.2222222222222222,
              "#7201a8"
             ],
             [
              0.3333333333333333,
              "#9c179e"
             ],
             [
              0.4444444444444444,
              "#bd3786"
             ],
             [
              0.5555555555555556,
              "#d8576b"
             ],
             [
              0.6666666666666666,
              "#ed7953"
             ],
             [
              0.7777777777777778,
              "#fb9f3a"
             ],
             [
              0.8888888888888888,
              "#fdca26"
             ],
             [
              1,
              "#f0f921"
             ]
            ],
            "type": "heatmap"
           }
          ],
          "histogram": [
           {
            "marker": {
             "pattern": {
              "fillmode": "overlay",
              "size": 10,
              "solidity": 0.2
             }
            },
            "type": "histogram"
           }
          ],
          "histogram2d": [
           {
            "colorbar": {
             "outlinewidth": 0,
             "ticks": ""
            },
            "colorscale": [
             [
              0,
              "#0d0887"
             ],
             [
              0.1111111111111111,
              "#46039f"
             ],
             [
              0.2222222222222222,
              "#7201a8"
             ],
             [
              0.3333333333333333,
              "#9c179e"
             ],
             [
              0.4444444444444444,
              "#bd3786"
             ],
             [
              0.5555555555555556,
              "#d8576b"
             ],
             [
              0.6666666666666666,
              "#ed7953"
             ],
             [
              0.7777777777777778,
              "#fb9f3a"
             ],
             [
              0.8888888888888888,
              "#fdca26"
             ],
             [
              1,
              "#f0f921"
             ]
            ],
            "type": "histogram2d"
           }
          ],
          "histogram2dcontour": [
           {
            "colorbar": {
             "outlinewidth": 0,
             "ticks": ""
            },
            "colorscale": [
             [
              0,
              "#0d0887"
             ],
             [
              0.1111111111111111,
              "#46039f"
             ],
             [
              0.2222222222222222,
              "#7201a8"
             ],
             [
              0.3333333333333333,
              "#9c179e"
             ],
             [
              0.4444444444444444,
              "#bd3786"
             ],
             [
              0.5555555555555556,
              "#d8576b"
             ],
             [
              0.6666666666666666,
              "#ed7953"
             ],
             [
              0.7777777777777778,
              "#fb9f3a"
             ],
             [
              0.8888888888888888,
              "#fdca26"
             ],
             [
              1,
              "#f0f921"
             ]
            ],
            "type": "histogram2dcontour"
           }
          ],
          "mesh3d": [
           {
            "colorbar": {
             "outlinewidth": 0,
             "ticks": ""
            },
            "type": "mesh3d"
           }
          ],
          "parcoords": [
           {
            "line": {
             "colorbar": {
              "outlinewidth": 0,
              "ticks": ""
             }
            },
            "type": "parcoords"
           }
          ],
          "pie": [
           {
            "automargin": true,
            "type": "pie"
           }
          ],
          "scatter": [
           {
            "fillpattern": {
             "fillmode": "overlay",
             "size": 10,
             "solidity": 0.2
            },
            "type": "scatter"
           }
          ],
          "scatter3d": [
           {
            "line": {
             "colorbar": {
              "outlinewidth": 0,
              "ticks": ""
             }
            },
            "marker": {
             "colorbar": {
              "outlinewidth": 0,
              "ticks": ""
             }
            },
            "type": "scatter3d"
           }
          ],
          "scattercarpet": [
           {
            "marker": {
             "colorbar": {
              "outlinewidth": 0,
              "ticks": ""
             }
            },
            "type": "scattercarpet"
           }
          ],
          "scattergeo": [
           {
            "marker": {
             "colorbar": {
              "outlinewidth": 0,
              "ticks": ""
             }
            },
            "type": "scattergeo"
           }
          ],
          "scattergl": [
           {
            "marker": {
             "colorbar": {
              "outlinewidth": 0,
              "ticks": ""
             }
            },
            "type": "scattergl"
           }
          ],
          "scattermap": [
           {
            "marker": {
             "colorbar": {
              "outlinewidth": 0,
              "ticks": ""
             }
            },
            "type": "scattermap"
           }
          ],
          "scattermapbox": [
           {
            "marker": {
             "colorbar": {
              "outlinewidth": 0,
              "ticks": ""
             }
            },
            "type": "scattermapbox"
           }
          ],
          "scatterpolar": [
           {
            "marker": {
             "colorbar": {
              "outlinewidth": 0,
              "ticks": ""
             }
            },
            "type": "scatterpolar"
           }
          ],
          "scatterpolargl": [
           {
            "marker": {
             "colorbar": {
              "outlinewidth": 0,
              "ticks": ""
             }
            },
            "type": "scatterpolargl"
           }
          ],
          "scatterternary": [
           {
            "marker": {
             "colorbar": {
              "outlinewidth": 0,
              "ticks": ""
             }
            },
            "type": "scatterternary"
           }
          ],
          "surface": [
           {
            "colorbar": {
             "outlinewidth": 0,
             "ticks": ""
            },
            "colorscale": [
             [
              0,
              "#0d0887"
             ],
             [
              0.1111111111111111,
              "#46039f"
             ],
             [
              0.2222222222222222,
              "#7201a8"
             ],
             [
              0.3333333333333333,
              "#9c179e"
             ],
             [
              0.4444444444444444,
              "#bd3786"
             ],
             [
              0.5555555555555556,
              "#d8576b"
             ],
             [
              0.6666666666666666,
              "#ed7953"
             ],
             [
              0.7777777777777778,
              "#fb9f3a"
             ],
             [
              0.8888888888888888,
              "#fdca26"
             ],
             [
              1,
              "#f0f921"
             ]
            ],
            "type": "surface"
           }
          ],
          "table": [
           {
            "cells": {
             "fill": {
              "color": "#EBF0F8"
             },
             "line": {
              "color": "white"
             }
            },
            "header": {
             "fill": {
              "color": "#C8D4E3"
             },
             "line": {
              "color": "white"
             }
            },
            "type": "table"
           }
          ]
         },
         "layout": {
          "annotationdefaults": {
           "arrowcolor": "#2a3f5f",
           "arrowhead": 0,
           "arrowwidth": 1
          },
          "autotypenumbers": "strict",
          "coloraxis": {
           "colorbar": {
            "outlinewidth": 0,
            "ticks": ""
           }
          },
          "colorscale": {
           "diverging": [
            [
             0,
             "#8e0152"
            ],
            [
             0.1,
             "#c51b7d"
            ],
            [
             0.2,
             "#de77ae"
            ],
            [
             0.3,
             "#f1b6da"
            ],
            [
             0.4,
             "#fde0ef"
            ],
            [
             0.5,
             "#f7f7f7"
            ],
            [
             0.6,
             "#e6f5d0"
            ],
            [
             0.7,
             "#b8e186"
            ],
            [
             0.8,
             "#7fbc41"
            ],
            [
             0.9,
             "#4d9221"
            ],
            [
             1,
             "#276419"
            ]
           ],
           "sequential": [
            [
             0,
             "#0d0887"
            ],
            [
             0.1111111111111111,
             "#46039f"
            ],
            [
             0.2222222222222222,
             "#7201a8"
            ],
            [
             0.3333333333333333,
             "#9c179e"
            ],
            [
             0.4444444444444444,
             "#bd3786"
            ],
            [
             0.5555555555555556,
             "#d8576b"
            ],
            [
             0.6666666666666666,
             "#ed7953"
            ],
            [
             0.7777777777777778,
             "#fb9f3a"
            ],
            [
             0.8888888888888888,
             "#fdca26"
            ],
            [
             1,
             "#f0f921"
            ]
           ],
           "sequentialminus": [
            [
             0,
             "#0d0887"
            ],
            [
             0.1111111111111111,
             "#46039f"
            ],
            [
             0.2222222222222222,
             "#7201a8"
            ],
            [
             0.3333333333333333,
             "#9c179e"
            ],
            [
             0.4444444444444444,
             "#bd3786"
            ],
            [
             0.5555555555555556,
             "#d8576b"
            ],
            [
             0.6666666666666666,
             "#ed7953"
            ],
            [
             0.7777777777777778,
             "#fb9f3a"
            ],
            [
             0.8888888888888888,
             "#fdca26"
            ],
            [
             1,
             "#f0f921"
            ]
           ]
          },
          "colorway": [
           "#636efa",
           "#EF553B",
           "#00cc96",
           "#ab63fa",
           "#FFA15A",
           "#19d3f3",
           "#FF6692",
           "#B6E880",
           "#FF97FF",
           "#FECB52"
          ],
          "font": {
           "color": "#2a3f5f"
          },
          "geo": {
           "bgcolor": "white",
           "lakecolor": "white",
           "landcolor": "#E5ECF6",
           "showlakes": true,
           "showland": true,
           "subunitcolor": "white"
          },
          "hoverlabel": {
           "align": "left"
          },
          "hovermode": "closest",
          "mapbox": {
           "style": "light"
          },
          "paper_bgcolor": "white",
          "plot_bgcolor": "#E5ECF6",
          "polar": {
           "angularaxis": {
            "gridcolor": "white",
            "linecolor": "white",
            "ticks": ""
           },
           "bgcolor": "#E5ECF6",
           "radialaxis": {
            "gridcolor": "white",
            "linecolor": "white",
            "ticks": ""
           }
          },
          "scene": {
           "xaxis": {
            "backgroundcolor": "#E5ECF6",
            "gridcolor": "white",
            "gridwidth": 2,
            "linecolor": "white",
            "showbackground": true,
            "ticks": "",
            "zerolinecolor": "white"
           },
           "yaxis": {
            "backgroundcolor": "#E5ECF6",
            "gridcolor": "white",
            "gridwidth": 2,
            "linecolor": "white",
            "showbackground": true,
            "ticks": "",
            "zerolinecolor": "white"
           },
           "zaxis": {
            "backgroundcolor": "#E5ECF6",
            "gridcolor": "white",
            "gridwidth": 2,
            "linecolor": "white",
            "showbackground": true,
            "ticks": "",
            "zerolinecolor": "white"
           }
          },
          "shapedefaults": {
           "line": {
            "color": "#2a3f5f"
           }
          },
          "ternary": {
           "aaxis": {
            "gridcolor": "white",
            "linecolor": "white",
            "ticks": ""
           },
           "baxis": {
            "gridcolor": "white",
            "linecolor": "white",
            "ticks": ""
           },
           "bgcolor": "#E5ECF6",
           "caxis": {
            "gridcolor": "white",
            "linecolor": "white",
            "ticks": ""
           }
          },
          "title": {
           "x": 0.05
          },
          "xaxis": {
           "automargin": true,
           "gridcolor": "white",
           "linecolor": "white",
           "ticks": "",
           "title": {
            "standoff": 15
           },
           "zerolinecolor": "white",
           "zerolinewidth": 2
          },
          "yaxis": {
           "automargin": true,
           "gridcolor": "white",
           "linecolor": "white",
           "ticks": "",
           "title": {
            "standoff": 15
           },
           "zerolinecolor": "white",
           "zerolinewidth": 2
          }
         }
        }
       }
      }
     },
     "metadata": {},
     "output_type": "display_data"
    }
   ],
   "source": [
    "fig = px.scatter_map(\n",
    "    df,\n",
    "    lat=\"latitude\",\n",
    "    lon=\"longitude\",\n",
    "    color=\"status\",\n",
    "    hover_name=\"name\",hover_data=['property_type'],\n",
    "    zoom=3,\n",
    "    height=500,\n",
    "    map_style=\"carto-positron\"\n",
    ")\n",
    "\n",
    "fig.show()"
   ]
  },
  {
   "cell_type": "code",
   "execution_count": 30,
   "id": "28de91b7",
   "metadata": {},
   "outputs": [
    {
     "name": "stdout",
     "output_type": "stream",
     "text": [
      "     year  month  row_count\n",
      "109  2023      1        641\n",
      "110  2023      2        551\n",
      "111  2023      3        816\n",
      "112  2023      4        746\n",
      "113  2023      5        557\n",
      "114  2023      6        449\n",
      "115  2023      7        462\n",
      "116  2023      8        582\n",
      "117  2023      9        957\n",
      "118  2023     10       1117\n",
      "119  2023     11        724\n",
      "120  2023     12        506\n",
      "     year  month  row_count\n",
      "97   2022      1        369\n",
      "98   2022      2        581\n",
      "99   2022      3        756\n",
      "100  2022      4       1001\n",
      "101  2022      5        729\n",
      "102  2022      6        531\n",
      "103  2022      7        543\n",
      "104  2022      8        690\n",
      "105  2022      9       1123\n",
      "106  2022     10       1186\n",
      "107  2022     11        698\n",
      "108  2022     12        509\n"
     ]
    },
    {
     "data": {
      "image/png": "[encoded data removed]",
      "text/plain": [
       "<Figure size 640x480 with 1 Axes>"
      ]
     },
     "metadata": {},
     "output_type": "display_data"
    }
   ],
   "source": [
    "df1['start_time'] = pd.to_datetime(df1['start_time'])\n",
    "\n",
    "df1['year'] = df1['start_time'].dt.year\n",
    "df1['month'] = df1['start_time'].dt.month\n",
    "\n",
    "monthly_trip_df = df1.groupby(['year', 'month']).size().reset_index(name='row_count')\n",
    "\n",
    "monthly_trip_2023_df = monthly_trip_df[monthly_trip_df['year'] == 2023]\n",
    "monthly_trip_2022_df = monthly_trip_df[monthly_trip_df['year'] == 2022]\n",
    "\n",
    "print(monthly_trip_2023_df)\n",
    "print(monthly_trip_2022_df)\n",
    "\n",
    "monthly_both = pd.concat([\n",
    "    monthly_trip_2022_df.assign(year_label='2022'),\n",
    "    monthly_trip_2023_df.assign(year_label='2023')\n",
    "])\n",
    "\n",
    "sns.barplot(\n",
    "    data=monthly_both,\n",
    "    x='month',\n",
    "    y='row_count',\n",
    "    hue='year_label',\n",
    "    dodge=True\n",
    ")\n",
    "plt.title('Monthly Trips: 2022 vs 2023')\n",
    "plt.xlabel('Month')\n",
    "plt.ylabel('Number of Trips')\n",
    "plt.show()\n"
   ]
  },
  {
   "cell_type": "code",
   "execution_count": null,
   "id": "acdfe60f",
   "metadata": {},
   "outputs": [
    {
     "data": {
      "text/plain": [
       "count    63657.000000\n",
       "mean        19.044190\n",
       "std         17.553671\n",
       "min          2.000000\n",
       "25%          6.000000\n",
       "50%         12.000000\n",
       "75%         27.000000\n",
       "max         58.500000\n",
       "Name: duration_capped, dtype: float64"
      ]
     },
     "execution_count": 46,
     "metadata": {},
     "output_type": "execute_result"
    }
   ],
   "source": [
    "# Calculate trip duration in minutes and eliminate outliers\n",
    "df1.head()\n",
    "np.average(df1['duration_minutes'])\n",
    "df1['duration_minutes'].describe()\n",
    "\n",
    "Q1 = df1['duration_minutes'].quantile(0.25)\n",
    "Q3 = df1['duration_minutes'].quantile(0.75)\n",
    "IQR = Q3 - Q1\n",
    "\n",
    "lower_limit = Q1 - 1.5 * IQR\n",
    "upper_limit = Q3 + 1.5 * IQR\n",
    "outliers = df1[(df1['duration_minutes'] < lower_limit) | (df1['duration_minutes'] > upper_limit)]\n",
    "df1['duration_capped'] = df1['duration_minutes'].clip(lower=lower_limit, upper=upper_limit)\n",
    "df1['duration_capped'].describe()\n"
   ]
  },
  {
   "cell_type": "code",
   "execution_count": 50,
   "id": "d178bab5",
   "metadata": {},
   "outputs": [
    {
     "data": {
      "image/png": "[encoded data removed]",
      "text/plain": [
       "<Figure size 640x480 with 1 Axes>"
      ]
     },
     "metadata": {},
     "output_type": "display_data"
    }
   ],
   "source": [
    "# Extract hour from start_time only for trips in 2023 and create a plot\n",
    "df1['start_hour'] = df1['start_time'].dt.hour\n",
    "df1_2023 = df1[df1['year'] == 2023]\n",
    "hourly_trip_2023_df = df1_2023.groupby('start_hour').size().reset_index(name='row_count')\n",
    "sns.barplot(\n",
    "    data=hourly_trip_2023_df,\n",
    "    x='start_hour',\n",
    "    y='row_count'\n",
    ")\n",
    "plt.title('Hourly Trips in 2023')\n",
    "plt.xlabel('Hour of Day')\n",
    "plt.ylabel('Number of Trips')\n",
    "plt.show()"
   ]
  },
  {
   "cell_type": "markdown",
   "id": "9786333b",
   "metadata": {},
   "source": [
    "## Conclusion\n",
    "- Stakeholders are looking for the best time to service their station and bicycles with minimal interruption on the bikeshare service are between 12am-6am. \n",
    "\n",
    "- It seems the sharebike seasons have less trips during December to February and June to July in 2022 and 2023 data. It could be due to the seasons and weather, in which need further weather data to validate the trend.\n",
    "\n",
    "- The station status whether is closed were seems to be random, it would be best to further understand the data from data source.\n",
    "\n",
    "## Next step:\n",
    "- Incorporate weather data (e.g., temperature, rainfall, snow) to validate the seasonal usage pattern observed between December–February and June–July.\n",
    "\n",
    "- Perform clustering or anomaly detection on station closure patterns to identify if there are hidden trends or specific locations/times with higher closure frequency.\n",
    "\n",
    "- Run service downtime simulations during 12am–6am to quantify potential trip impact, ensuring minimal disruption during maintenance windows."
   ]
  }
 ],
 "metadata": {
  "kernelspec": {
   "display_name": "Python 3",
   "language": "python",
   "name": "python3"
  },
  "language_info": {
   "codemirror_mode": {
    "name": "ipython",
    "version": 3
   },
   "file_extension": ".py",
   "mimetype": "text/x-python",
   "name": "python",
   "nbconvert_exporter": "python",
   "pygments_lexer": "ipython3",
   "version": "3.8.10"
  }
 },
 "nbformat": 4,
 "nbformat_minor": 5
}
